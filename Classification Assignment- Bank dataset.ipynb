{
 "cells": [
  {
   "cell_type": "code",
   "execution_count": 1,
   "metadata": {},
   "outputs": [],
   "source": [
    "import numpy as np\n",
    "import pandas as pd"
   ]
  },
  {
   "cell_type": "code",
   "execution_count": 2,
   "metadata": {},
   "outputs": [],
   "source": [
    "dataset = pd.read_csv(r\"F:\\Andrina\\Externship\\Code Files\\bank.csv\")"
   ]
  },
  {
   "cell_type": "code",
   "execution_count": 3,
   "metadata": {},
   "outputs": [
    {
     "data": {
      "text/html": [
       "<div>\n",
       "<style scoped>\n",
       "    .dataframe tbody tr th:only-of-type {\n",
       "        vertical-align: middle;\n",
       "    }\n",
       "\n",
       "    .dataframe tbody tr th {\n",
       "        vertical-align: top;\n",
       "    }\n",
       "\n",
       "    .dataframe thead th {\n",
       "        text-align: right;\n",
       "    }\n",
       "</style>\n",
       "<table border=\"1\" class=\"dataframe\">\n",
       "  <thead>\n",
       "    <tr style=\"text-align: right;\">\n",
       "      <th></th>\n",
       "      <th>age</th>\n",
       "      <th>job</th>\n",
       "      <th>marital</th>\n",
       "      <th>education</th>\n",
       "      <th>default</th>\n",
       "      <th>balance</th>\n",
       "      <th>housing</th>\n",
       "      <th>loan</th>\n",
       "      <th>contact</th>\n",
       "      <th>day</th>\n",
       "      <th>month</th>\n",
       "      <th>duration</th>\n",
       "      <th>campaign</th>\n",
       "      <th>pdays</th>\n",
       "      <th>previous</th>\n",
       "      <th>poutcome</th>\n",
       "      <th>deposit</th>\n",
       "    </tr>\n",
       "  </thead>\n",
       "  <tbody>\n",
       "    <tr>\n",
       "      <th>0</th>\n",
       "      <td>59</td>\n",
       "      <td>admin.</td>\n",
       "      <td>married</td>\n",
       "      <td>secondary</td>\n",
       "      <td>no</td>\n",
       "      <td>2343</td>\n",
       "      <td>yes</td>\n",
       "      <td>no</td>\n",
       "      <td>unknown</td>\n",
       "      <td>5</td>\n",
       "      <td>may</td>\n",
       "      <td>1042</td>\n",
       "      <td>1</td>\n",
       "      <td>-1</td>\n",
       "      <td>0</td>\n",
       "      <td>unknown</td>\n",
       "      <td>yes</td>\n",
       "    </tr>\n",
       "    <tr>\n",
       "      <th>1</th>\n",
       "      <td>56</td>\n",
       "      <td>admin.</td>\n",
       "      <td>married</td>\n",
       "      <td>secondary</td>\n",
       "      <td>no</td>\n",
       "      <td>45</td>\n",
       "      <td>no</td>\n",
       "      <td>no</td>\n",
       "      <td>unknown</td>\n",
       "      <td>5</td>\n",
       "      <td>may</td>\n",
       "      <td>1467</td>\n",
       "      <td>1</td>\n",
       "      <td>-1</td>\n",
       "      <td>0</td>\n",
       "      <td>unknown</td>\n",
       "      <td>yes</td>\n",
       "    </tr>\n",
       "  </tbody>\n",
       "</table>\n",
       "</div>"
      ],
      "text/plain": [
       "   age     job  marital  education default  balance housing loan  contact  \\\n",
       "0   59  admin.  married  secondary      no     2343     yes   no  unknown   \n",
       "1   56  admin.  married  secondary      no       45      no   no  unknown   \n",
       "\n",
       "   day month  duration  campaign  pdays  previous poutcome deposit  \n",
       "0    5   may      1042         1     -1         0  unknown     yes  \n",
       "1    5   may      1467         1     -1         0  unknown     yes  "
      ]
     },
     "execution_count": 3,
     "metadata": {},
     "output_type": "execute_result"
    }
   ],
   "source": [
    "dataset.head(2)"
   ]
  },
  {
   "cell_type": "code",
   "execution_count": 4,
   "metadata": {},
   "outputs": [
    {
     "data": {
      "text/plain": [
       "age          False\n",
       "job          False\n",
       "marital      False\n",
       "education    False\n",
       "default      False\n",
       "balance      False\n",
       "housing      False\n",
       "loan         False\n",
       "contact      False\n",
       "day          False\n",
       "month        False\n",
       "duration     False\n",
       "campaign     False\n",
       "pdays        False\n",
       "previous     False\n",
       "poutcome     False\n",
       "deposit      False\n",
       "dtype: bool"
      ]
     },
     "execution_count": 4,
     "metadata": {},
     "output_type": "execute_result"
    }
   ],
   "source": [
    "dataset.isnull().any()"
   ]
  },
  {
   "cell_type": "code",
   "execution_count": 5,
   "metadata": {},
   "outputs": [],
   "source": [
    "m = dataset.iloc[:,0:9]\n",
    "n = dataset.iloc[:,11:13]\n",
    "o = dataset.iloc[:,14:16]"
   ]
  },
  {
   "cell_type": "code",
   "execution_count": 6,
   "metadata": {},
   "outputs": [],
   "source": [
    "x = m.join(n)\n",
    "x = x.join(o)"
   ]
  },
  {
   "cell_type": "code",
   "execution_count": 7,
   "metadata": {},
   "outputs": [],
   "source": [
    "x = x.values\n",
    "y = dataset.iloc[:,16:].values"
   ]
  },
  {
   "cell_type": "code",
   "execution_count": 8,
   "metadata": {},
   "outputs": [
    {
     "data": {
      "text/plain": [
       "array([[59, 'admin.', 'married', ..., 1, 0, 'unknown'],\n",
       "       [56, 'admin.', 'married', ..., 1, 0, 'unknown'],\n",
       "       [41, 'technician', 'married', ..., 1, 0, 'unknown'],\n",
       "       ...,\n",
       "       [32, 'technician', 'single', ..., 2, 0, 'unknown'],\n",
       "       [43, 'technician', 'married', ..., 2, 5, 'failure'],\n",
       "       [34, 'technician', 'married', ..., 1, 0, 'unknown']], dtype=object)"
      ]
     },
     "execution_count": 8,
     "metadata": {},
     "output_type": "execute_result"
    }
   ],
   "source": [
    "x"
   ]
  },
  {
   "cell_type": "code",
   "execution_count": 9,
   "metadata": {},
   "outputs": [
    {
     "data": {
      "text/plain": [
       "array([['yes'],\n",
       "       ['yes'],\n",
       "       ['yes'],\n",
       "       ...,\n",
       "       ['no'],\n",
       "       ['no'],\n",
       "       ['no']], dtype=object)"
      ]
     },
     "execution_count": 9,
     "metadata": {},
     "output_type": "execute_result"
    }
   ],
   "source": [
    "y"
   ]
  },
  {
   "cell_type": "code",
   "execution_count": 10,
   "metadata": {},
   "outputs": [],
   "source": [
    "y = np.where(y=='yes',1,y)\n",
    "y = np.where(y=='no',0,y)"
   ]
  },
  {
   "cell_type": "code",
   "execution_count": 11,
   "metadata": {},
   "outputs": [
    {
     "data": {
      "text/plain": [
       "array([[1],\n",
       "       [1],\n",
       "       [1],\n",
       "       ...,\n",
       "       [0],\n",
       "       [0],\n",
       "       [0]], dtype=object)"
      ]
     },
     "execution_count": 11,
     "metadata": {},
     "output_type": "execute_result"
    }
   ],
   "source": [
    "y"
   ]
  },
  {
   "cell_type": "code",
   "execution_count": 12,
   "metadata": {},
   "outputs": [],
   "source": [
    "from sklearn.compose import ColumnTransformer\n",
    "from sklearn.preprocessing import OneHotEncoder"
   ]
  },
  {
   "cell_type": "code",
   "execution_count": 13,
   "metadata": {},
   "outputs": [],
   "source": [
    "ct = ColumnTransformer([(\"one\",OneHotEncoder(),[1,2,3,4,6,7,8,12])],remainder =\"passthrough\")\n",
    "x = ct.fit_transform(x)"
   ]
  },
  {
   "cell_type": "code",
   "execution_count": 14,
   "metadata": {},
   "outputs": [
    {
     "data": {
      "text/plain": [
       "array([1.0, 0.0, 0.0, 0.0, 0.0, 0.0, 0.0, 0.0, 0.0, 0.0, 0.0, 0.0, 0.0,\n",
       "       1.0, 0.0, 0.0, 1.0, 0.0, 0.0, 1.0, 0.0, 0.0, 1.0, 1.0, 0.0, 0.0,\n",
       "       0.0, 1.0, 0.0, 0.0, 0.0, 1.0, 59, 2343, 1042, 1, 0], dtype=object)"
      ]
     },
     "execution_count": 14,
     "metadata": {},
     "output_type": "execute_result"
    }
   ],
   "source": [
    "x[0]"
   ]
  },
  {
   "cell_type": "code",
   "execution_count": 15,
   "metadata": {},
   "outputs": [],
   "source": [
    "from sklearn.model_selection import train_test_split\n",
    "x_train,x_test, y_train,y_test = train_test_split(x,y,test_size = 0.2, random_state=0)"
   ]
  },
  {
   "cell_type": "code",
   "execution_count": 16,
   "metadata": {},
   "outputs": [],
   "source": [
    "from sklearn.preprocessing import StandardScaler\n",
    "sc = StandardScaler()\n",
    "x_train = sc.fit_transform(x_train)\n",
    "x_test = sc.fit_transform(x_test)"
   ]
  },
  {
   "cell_type": "code",
   "execution_count": 17,
   "metadata": {},
   "outputs": [],
   "source": [
    "from tensorflow.keras.models import Sequential\n",
    "from tensorflow.keras.layers import Dense "
   ]
  },
  {
   "cell_type": "code",
   "execution_count": 18,
   "metadata": {},
   "outputs": [],
   "source": [
    "classification = Sequential()"
   ]
  },
  {
   "cell_type": "code",
   "execution_count": 19,
   "metadata": {},
   "outputs": [
    {
     "data": {
      "text/plain": [
       "(8929, 37)"
      ]
     },
     "execution_count": 19,
     "metadata": {},
     "output_type": "execute_result"
    }
   ],
   "source": [
    "x_train.shape"
   ]
  },
  {
   "cell_type": "code",
   "execution_count": 20,
   "metadata": {},
   "outputs": [
    {
     "name": "stdout",
     "output_type": "stream",
     "text": [
      "WARNING:tensorflow:From C:\\Users\\andma\\Anaconda3\\lib\\site-packages\\tensorflow\\python\\keras\\initializers.py:119: calling RandomUniform.__init__ (from tensorflow.python.ops.init_ops) with dtype is deprecated and will be removed in a future version.\n",
      "Instructions for updating:\n",
      "Call initializer instance with the dtype argument instead of passing it to the constructor\n"
     ]
    }
   ],
   "source": [
    "classification.add(Dense( units= 37, kernel_initializer= \"random_uniform\", activation=\"relu\"))"
   ]
  },
  {
   "cell_type": "code",
   "execution_count": 21,
   "metadata": {},
   "outputs": [],
   "source": [
    "classification.add(Dense( units= 74, kernel_initializer= \"random_uniform\", activation=\"relu\"))"
   ]
  },
  {
   "cell_type": "code",
   "execution_count": 22,
   "metadata": {},
   "outputs": [],
   "source": [
    "classification.add(Dense( units= 74, kernel_initializer= \"random_uniform\", activation=\"relu\"))"
   ]
  },
  {
   "cell_type": "code",
   "execution_count": 23,
   "metadata": {},
   "outputs": [],
   "source": [
    "classification.add(Dense( units= 1, kernel_initializer= \"random_uniform\", activation=\"sigmoid\"))"
   ]
  },
  {
   "cell_type": "code",
   "execution_count": 24,
   "metadata": {},
   "outputs": [],
   "source": [
    "classification.compile(optimizer = \"adam\", loss = \"binary_crossentropy\", metrics=[\"accuracy\"]) "
   ]
  },
  {
   "cell_type": "code",
   "execution_count": 27,
   "metadata": {},
   "outputs": [
    {
     "name": "stdout",
     "output_type": "stream",
     "text": [
      "Epoch 1/100\n",
      "8929/8929 [==============================] - 1s 73us/sample - loss: 0.2433 - acc: 0.8908\n",
      "Epoch 2/100\n",
      "8929/8929 [==============================] - 1s 74us/sample - loss: 0.2446 - acc: 0.8882\n",
      "Epoch 3/100\n",
      "8929/8929 [==============================] - 1s 71us/sample - loss: 0.2467 - acc: 0.8878\n",
      "Epoch 4/100\n",
      "8929/8929 [==============================] - 1s 71us/sample - loss: 0.2466 - acc: 0.8880\n",
      "Epoch 5/100\n",
      "8929/8929 [==============================] - 1s 75us/sample - loss: 0.2372 - acc: 0.8915\n",
      "Epoch 6/100\n",
      "8929/8929 [==============================] - 1s 71us/sample - loss: 0.2363 - acc: 0.8933\n",
      "Epoch 7/100\n",
      "8929/8929 [==============================] - 1s 71us/sample - loss: 0.2339 - acc: 0.8910\n",
      "Epoch 8/100\n",
      "8929/8929 [==============================] - 1s 75us/sample - loss: 0.2322 - acc: 0.8951\n",
      "Epoch 9/100\n",
      "8929/8929 [==============================] - 1s 73us/sample - loss: 0.2309 - acc: 0.8958\n",
      "Epoch 10/100\n",
      "8929/8929 [==============================] - 1s 74us/sample - loss: 0.2321 - acc: 0.8921\n",
      "Epoch 11/100\n",
      "8929/8929 [==============================] - 1s 73us/sample - loss: 0.2300 - acc: 0.8919\n",
      "Epoch 12/100\n",
      "8929/8929 [==============================] - 1s 73us/sample - loss: 0.2235 - acc: 0.8995\n",
      "Epoch 13/100\n",
      "8929/8929 [==============================] - 1s 74us/sample - loss: 0.2167 - acc: 0.8993\n",
      "Epoch 14/100\n",
      "8929/8929 [==============================] - 1s 72us/sample - loss: 0.2232 - acc: 0.90090s - loss: 0.2166 - acc: 0.\n",
      "Epoch 15/100\n",
      "8929/8929 [==============================] - 1s 72us/sample - loss: 0.2153 - acc: 0.9012\n",
      "Epoch 16/100\n",
      "8929/8929 [==============================] - 1s 72us/sample - loss: 0.2175 - acc: 0.9036\n",
      "Epoch 17/100\n",
      "8929/8929 [==============================] - 1s 74us/sample - loss: 0.2079 - acc: 0.9029\n",
      "Epoch 18/100\n",
      "8929/8929 [==============================] - 1s 78us/sample - loss: 0.2100 - acc: 0.9033\n",
      "Epoch 19/100\n",
      "8929/8929 [==============================] - 1s 77us/sample - loss: 0.2088 - acc: 0.90450s - loss: 0.1886 -\n",
      "Epoch 20/100\n",
      "8929/8929 [==============================] - 1s 79us/sample - loss: 0.2109 - acc: 0.9068\n",
      "Epoch 21/100\n",
      "8929/8929 [==============================] - 1s 77us/sample - loss: 0.2061 - acc: 0.9046\n",
      "Epoch 22/100\n",
      "8929/8929 [==============================] - 1s 78us/sample - loss: 0.2025 - acc: 0.90790s - loss: 0.2020 - acc: 0.908\n",
      "Epoch 23/100\n",
      "8929/8929 [==============================] - 1s 78us/sample - loss: 0.2019 - acc: 0.9078\n",
      "Epoch 24/100\n",
      "8929/8929 [==============================] - 1s 73us/sample - loss: 0.2153 - acc: 0.9097\n",
      "Epoch 25/100\n",
      "8929/8929 [==============================] - 1s 75us/sample - loss: 0.2078 - acc: 0.9061\n",
      "Epoch 26/100\n",
      "8929/8929 [==============================] - 1s 74us/sample - loss: 0.1972 - acc: 0.9120\n",
      "Epoch 27/100\n",
      "8929/8929 [==============================] - 1s 74us/sample - loss: 0.1952 - acc: 0.9128\n",
      "Epoch 28/100\n",
      "8929/8929 [==============================] - 1s 76us/sample - loss: 0.1934 - acc: 0.9139\n",
      "Epoch 29/100\n",
      "8929/8929 [==============================] - 1s 73us/sample - loss: 0.1998 - acc: 0.9111\n",
      "Epoch 30/100\n",
      "8929/8929 [==============================] - 1s 78us/sample - loss: 0.1873 - acc: 0.9189\n",
      "Epoch 31/100\n",
      "8929/8929 [==============================] - 1s 108us/sample - loss: 0.1862 - acc: 0.9173\n",
      "Epoch 32/100\n",
      "8929/8929 [==============================] - 1s 113us/sample - loss: 0.2050 - acc: 0.9076s - loss: 0\n",
      "Epoch 33/100\n",
      "8929/8929 [==============================] - 1s 96us/sample - loss: 0.1896 - acc: 0.9163\n",
      "Epoch 34/100\n",
      "8929/8929 [==============================] - 1s 99us/sample - loss: 0.1861 - acc: 0.9185\n",
      "Epoch 35/100\n",
      "8929/8929 [==============================] - 1s 81us/sample - loss: 0.1741 - acc: 0.9206\n",
      "Epoch 36/100\n",
      "8929/8929 [==============================] - 1s 103us/sample - loss: 0.1785 - acc: 0.9169\n",
      "Epoch 37/100\n",
      "8929/8929 [==============================] - 1s 105us/sample - loss: 0.1774 - acc: 0.9243\n",
      "Epoch 38/100\n",
      "8929/8929 [==============================] - 1s 72us/sample - loss: 0.1729 - acc: 0.9251\n",
      "Epoch 39/100\n",
      "8929/8929 [==============================] - 1s 71us/sample - loss: 0.1758 - acc: 0.9203\n",
      "Epoch 40/100\n",
      "8929/8929 [==============================] - 1s 69us/sample - loss: 0.1985 - acc: 0.9160\n",
      "Epoch 41/100\n",
      "8929/8929 [==============================] - 1s 69us/sample - loss: 0.1870 - acc: 0.9191\n",
      "Epoch 42/100\n",
      "8929/8929 [==============================] - 1s 77us/sample - loss: 0.2048 - acc: 0.9074\n",
      "Epoch 43/100\n",
      "8929/8929 [==============================] - 1s 69us/sample - loss: 0.1718 - acc: 0.9271\n",
      "Epoch 44/100\n",
      "8929/8929 [==============================] - 1s 72us/sample - loss: 0.1654 - acc: 0.9257\n",
      "Epoch 45/100\n",
      "8929/8929 [==============================] - 1s 79us/sample - loss: 0.1700 - acc: 0.9259\n",
      "Epoch 46/100\n",
      "8929/8929 [==============================] - 1s 71us/sample - loss: 0.1718 - acc: 0.9238\n",
      "Epoch 47/100\n",
      "8929/8929 [==============================] - 1s 69us/sample - loss: 0.1707 - acc: 0.9242\n",
      "Epoch 48/100\n",
      "8929/8929 [==============================] - 1s 68us/sample - loss: 0.1586 - acc: 0.9333\n",
      "Epoch 49/100\n",
      "8929/8929 [==============================] - 1s 70us/sample - loss: 0.1595 - acc: 0.9307\n",
      "Epoch 50/100\n",
      "8929/8929 [==============================] - 1s 68us/sample - loss: 0.1611 - acc: 0.9282\n",
      "Epoch 51/100\n",
      "8929/8929 [==============================] - 1s 77us/sample - loss: 0.1643 - acc: 0.9275\n",
      "Epoch 52/100\n",
      "8929/8929 [==============================] - 1s 78us/sample - loss: 0.1610 - acc: 0.93050s - loss: 0.1402 -\n",
      "Epoch 53/100\n",
      "8929/8929 [==============================] - 1s 90us/sample - loss: 0.1614 - acc: 0.9287\n",
      "Epoch 54/100\n",
      "8929/8929 [==============================] - 1s 84us/sample - loss: 0.1853 - acc: 0.9214\n",
      "Epoch 55/100\n",
      "8929/8929 [==============================] - 1s 80us/sample - loss: 0.1747 - acc: 0.9243\n",
      "Epoch 56/100\n",
      "8929/8929 [==============================] - 1s 86us/sample - loss: 0.1507 - acc: 0.9344\n",
      "Epoch 57/100\n",
      "8929/8929 [==============================] - 1s 80us/sample - loss: 0.1469 - acc: 0.9353\n",
      "Epoch 58/100\n",
      "8929/8929 [==============================] - 1s 81us/sample - loss: 0.1445 - acc: 0.9369\n",
      "Epoch 59/100\n",
      "8929/8929 [==============================] - 1s 76us/sample - loss: 0.1440 - acc: 0.9417\n",
      "Epoch 60/100\n",
      "8929/8929 [==============================] - 1s 78us/sample - loss: 0.1452 - acc: 0.9392\n",
      "Epoch 61/100\n",
      "8929/8929 [==============================] - 1s 84us/sample - loss: 0.1503 - acc: 0.9353\n",
      "Epoch 62/100\n",
      "8929/8929 [==============================] - 1s 80us/sample - loss: 0.1510 - acc: 0.9350\n",
      "Epoch 63/100\n",
      "8929/8929 [==============================] - 1s 75us/sample - loss: 0.1501 - acc: 0.9340\n",
      "Epoch 64/100\n",
      "8929/8929 [==============================] - 1s 85us/sample - loss: 0.1433 - acc: 0.9369\n",
      "Epoch 65/100\n",
      "8929/8929 [==============================] - 1s 78us/sample - loss: 0.1523 - acc: 0.9350\n",
      "Epoch 66/100\n",
      "8929/8929 [==============================] - 1s 80us/sample - loss: 0.1430 - acc: 0.9413\n",
      "Epoch 67/100\n",
      "8929/8929 [==============================] - 1s 77us/sample - loss: 0.1568 - acc: 0.9338\n",
      "Epoch 68/100\n",
      "8929/8929 [==============================] - 1s 74us/sample - loss: 0.1474 - acc: 0.9366\n",
      "Epoch 69/100\n",
      "8929/8929 [==============================] - 1s 76us/sample - loss: 0.1376 - acc: 0.9428\n",
      "Epoch 70/100\n",
      "8929/8929 [==============================] - 1s 79us/sample - loss: 0.1422 - acc: 0.9401\n",
      "Epoch 71/100\n",
      "8929/8929 [==============================] - 1s 73us/sample - loss: 0.1405 - acc: 0.9424\n",
      "Epoch 72/100\n",
      "8929/8929 [==============================] - 1s 74us/sample - loss: 0.1377 - acc: 0.9423\n",
      "Epoch 73/100\n",
      "8929/8929 [==============================] - 1s 78us/sample - loss: 0.1393 - acc: 0.9429\n",
      "Epoch 74/100\n",
      "8929/8929 [==============================] - 1s 75us/sample - loss: 0.1331 - acc: 0.9450\n",
      "Epoch 75/100\n",
      "8929/8929 [==============================] - 1s 73us/sample - loss: 0.1269 - acc: 0.9468\n",
      "Epoch 76/100\n",
      "8929/8929 [==============================] - 1s 73us/sample - loss: 0.1375 - acc: 0.9412\n",
      "Epoch 77/100\n",
      "8929/8929 [==============================] - 1s 77us/sample - loss: 0.1375 - acc: 0.9430\n",
      "Epoch 78/100\n",
      "8929/8929 [==============================] - 1s 78us/sample - loss: 0.1397 - acc: 0.9437\n",
      "Epoch 79/100\n",
      "8929/8929 [==============================] - 1s 79us/sample - loss: 0.1276 - acc: 0.9449\n",
      "Epoch 80/100\n"
     ]
    },
    {
     "name": "stdout",
     "output_type": "stream",
     "text": [
      "8929/8929 [==============================] - 1s 72us/sample - loss: 0.1204 - acc: 0.9494\n",
      "Epoch 81/100\n",
      "8929/8929 [==============================] - 1s 73us/sample - loss: 0.1389 - acc: 0.9423\n",
      "Epoch 82/100\n",
      "8929/8929 [==============================] - 1s 74us/sample - loss: 0.1278 - acc: 0.9467\n",
      "Epoch 83/100\n",
      "8929/8929 [==============================] - 1s 75us/sample - loss: 0.1365 - acc: 0.9424\n",
      "Epoch 84/100\n",
      "8929/8929 [==============================] - 1s 71us/sample - loss: 0.1191 - acc: 0.9498\n",
      "Epoch 85/100\n",
      "8929/8929 [==============================] - 1s 74us/sample - loss: 0.1198 - acc: 0.9479\n",
      "Epoch 86/100\n",
      "8929/8929 [==============================] - 1s 76us/sample - loss: 0.1577 - acc: 0.9347\n",
      "Epoch 87/100\n",
      "8929/8929 [==============================] - 1s 81us/sample - loss: 0.1574 - acc: 0.9382\n",
      "Epoch 88/100\n",
      "8929/8929 [==============================] - 1s 77us/sample - loss: 0.1407 - acc: 0.9429\n",
      "Epoch 89/100\n",
      "8929/8929 [==============================] - 1s 77us/sample - loss: 0.1330 - acc: 0.9441\n",
      "Epoch 90/100\n",
      "8929/8929 [==============================] - 1s 78us/sample - loss: 0.1143 - acc: 0.9521\n",
      "Epoch 91/100\n",
      "8929/8929 [==============================] - 1s 85us/sample - loss: 0.1091 - acc: 0.9557\n",
      "Epoch 92/100\n",
      "8929/8929 [==============================] - 1s 83us/sample - loss: 0.1378 - acc: 0.9445\n",
      "Epoch 93/100\n",
      "8929/8929 [==============================] - 1s 67us/sample - loss: 0.1135 - acc: 0.9515\n",
      "Epoch 94/100\n",
      "8929/8929 [==============================] - 1s 65us/sample - loss: 0.1119 - acc: 0.9543\n",
      "Epoch 95/100\n",
      "8929/8929 [==============================] - 1s 67us/sample - loss: 0.1098 - acc: 0.9549\n",
      "Epoch 96/100\n",
      "8929/8929 [==============================] - 1s 72us/sample - loss: 0.1081 - acc: 0.9560\n",
      "Epoch 97/100\n",
      "8929/8929 [==============================] - 1s 67us/sample - loss: 0.1205 - acc: 0.9477\n",
      "Epoch 98/100\n",
      "8929/8929 [==============================] - 1s 67us/sample - loss: 0.1062 - acc: 0.9544\n",
      "Epoch 99/100\n",
      "8929/8929 [==============================] - 1s 66us/sample - loss: 0.1138 - acc: 0.9515\n",
      "Epoch 100/100\n",
      "8929/8929 [==============================] - 1s 68us/sample - loss: 0.1248 - acc: 0.9479\n"
     ]
    },
    {
     "data": {
      "text/plain": [
       "<tensorflow.python.keras.callbacks.History at 0x247e61a7518>"
      ]
     },
     "execution_count": 27,
     "metadata": {},
     "output_type": "execute_result"
    }
   ],
   "source": [
    "classification.fit(x_train, y_train, epochs = 100) "
   ]
  },
  {
   "cell_type": "code",
   "execution_count": 28,
   "metadata": {},
   "outputs": [],
   "source": [
    "ypred = classification.predict(x_test)"
   ]
  },
  {
   "cell_type": "code",
   "execution_count": 29,
   "metadata": {},
   "outputs": [
    {
     "data": {
      "text/plain": [
       "array([[0.0000000e+00],\n",
       "       [1.0000000e+00],\n",
       "       [2.3841858e-07],\n",
       "       ...,\n",
       "       [9.9999285e-01],\n",
       "       [2.3761392e-04],\n",
       "       [9.9494284e-01]], dtype=float32)"
      ]
     },
     "execution_count": 29,
     "metadata": {},
     "output_type": "execute_result"
    }
   ],
   "source": [
    "ypred"
   ]
  },
  {
   "cell_type": "code",
   "execution_count": 30,
   "metadata": {},
   "outputs": [
    {
     "data": {
      "text/plain": [
       "array([[0],\n",
       "       [1],\n",
       "       [0],\n",
       "       ...,\n",
       "       [1],\n",
       "       [1],\n",
       "       [0]], dtype=object)"
      ]
     },
     "execution_count": 30,
     "metadata": {},
     "output_type": "execute_result"
    }
   ],
   "source": [
    "y_test"
   ]
  },
  {
   "cell_type": "code",
   "execution_count": 31,
   "metadata": {},
   "outputs": [],
   "source": [
    "ypred = ypred>0.5"
   ]
  },
  {
   "cell_type": "code",
   "execution_count": 32,
   "metadata": {},
   "outputs": [
    {
     "data": {
      "text/plain": [
       "array([[False],\n",
       "       [ True],\n",
       "       [False],\n",
       "       ...,\n",
       "       [ True],\n",
       "       [False],\n",
       "       [ True]])"
      ]
     },
     "execution_count": 32,
     "metadata": {},
     "output_type": "execute_result"
    }
   ],
   "source": [
    "ypred"
   ]
  },
  {
   "cell_type": "code",
   "execution_count": 35,
   "metadata": {},
   "outputs": [
    {
     "data": {
      "text/html": [
       "<div>\n",
       "<style scoped>\n",
       "    .dataframe tbody tr th:only-of-type {\n",
       "        vertical-align: middle;\n",
       "    }\n",
       "\n",
       "    .dataframe tbody tr th {\n",
       "        vertical-align: top;\n",
       "    }\n",
       "\n",
       "    .dataframe thead th {\n",
       "        text-align: right;\n",
       "    }\n",
       "</style>\n",
       "<table border=\"1\" class=\"dataframe\">\n",
       "  <thead>\n",
       "    <tr style=\"text-align: right;\">\n",
       "      <th></th>\n",
       "      <th>age</th>\n",
       "      <th>job</th>\n",
       "      <th>marital</th>\n",
       "      <th>education</th>\n",
       "      <th>default</th>\n",
       "      <th>balance</th>\n",
       "      <th>housing</th>\n",
       "      <th>loan</th>\n",
       "      <th>contact</th>\n",
       "      <th>day</th>\n",
       "      <th>month</th>\n",
       "      <th>duration</th>\n",
       "      <th>campaign</th>\n",
       "      <th>pdays</th>\n",
       "      <th>previous</th>\n",
       "      <th>poutcome</th>\n",
       "      <th>deposit</th>\n",
       "    </tr>\n",
       "  </thead>\n",
       "  <tbody>\n",
       "    <tr>\n",
       "      <th>0</th>\n",
       "      <td>59</td>\n",
       "      <td>admin.</td>\n",
       "      <td>married</td>\n",
       "      <td>secondary</td>\n",
       "      <td>no</td>\n",
       "      <td>2343</td>\n",
       "      <td>yes</td>\n",
       "      <td>no</td>\n",
       "      <td>unknown</td>\n",
       "      <td>5</td>\n",
       "      <td>may</td>\n",
       "      <td>1042</td>\n",
       "      <td>1</td>\n",
       "      <td>-1</td>\n",
       "      <td>0</td>\n",
       "      <td>unknown</td>\n",
       "      <td>yes</td>\n",
       "    </tr>\n",
       "  </tbody>\n",
       "</table>\n",
       "</div>"
      ],
      "text/plain": [
       "   age     job  marital  education default  balance housing loan  contact  \\\n",
       "0   59  admin.  married  secondary      no     2343     yes   no  unknown   \n",
       "\n",
       "   day month  duration  campaign  pdays  previous poutcome deposit  \n",
       "0    5   may      1042         1     -1         0  unknown     yes  "
      ]
     },
     "execution_count": 35,
     "metadata": {},
     "output_type": "execute_result"
    }
   ],
   "source": [
    "dataset.head(1)"
   ]
  },
  {
   "cell_type": "code",
   "execution_count": 36,
   "metadata": {},
   "outputs": [],
   "source": [
    "yp = classification.predict(sc.transform(ct.transform([[59, 'admin.', 'married', 'secondary', 'no', 2343, 'yes', 'no',\n",
    "       'unknown', 1042, 1, 0, 'unknown']])))"
   ]
  },
  {
   "cell_type": "code",
   "execution_count": 37,
   "metadata": {},
   "outputs": [
    {
     "name": "stdout",
     "output_type": "stream",
     "text": [
      "Yes\n"
     ]
    }
   ],
   "source": [
    "yp > 0.5\n",
    "if(yp>0.5):\n",
    "    print(\"Yes\")\n",
    "else:\n",
    "    print(\"No\")"
   ]
  },
  {
   "cell_type": "code",
   "execution_count": 40,
   "metadata": {},
   "outputs": [],
   "source": [
    "yp = classification.predict(sc.transform(ct.transform([[38, 'management', 'married', 'tertiary', 'no', 5432, 'yes', 'yes',\n",
    "       'cellular', 707, 1, 2, 'failure']])))"
   ]
  },
  {
   "cell_type": "code",
   "execution_count": 41,
   "metadata": {},
   "outputs": [
    {
     "name": "stdout",
     "output_type": "stream",
     "text": [
      "No\n"
     ]
    }
   ],
   "source": [
    "yp > 0.5\n",
    "if(yp>0.5):\n",
    "    print(\"Yes\")\n",
    "else:\n",
    "    print(\"No\")"
   ]
  },
  {
   "cell_type": "code",
   "execution_count": null,
   "metadata": {},
   "outputs": [],
   "source": []
  }
 ],
 "metadata": {
  "kernelspec": {
   "display_name": "Python 3",
   "language": "python",
   "name": "python3"
  },
  "language_info": {
   "codemirror_mode": {
    "name": "ipython",
    "version": 3
   },
   "file_extension": ".py",
   "mimetype": "text/x-python",
   "name": "python",
   "nbconvert_exporter": "python",
   "pygments_lexer": "ipython3",
   "version": "3.7.3"
  }
 },
 "nbformat": 4,
 "nbformat_minor": 2
}
