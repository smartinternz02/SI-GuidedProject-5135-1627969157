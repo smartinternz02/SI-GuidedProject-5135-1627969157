{
 "cells": [
  {
   "cell_type": "markdown",
   "metadata": {},
   "source": [
    "# This model predicts 4 types of precious stones: \n",
    "# Amethyst, Jade, Rose Quartz and Sapphire"
   ]
  },
  {
   "cell_type": "markdown",
   "metadata": {},
   "source": [
    "### 1. Importing Libraries"
   ]
  },
  {
   "cell_type": "code",
   "execution_count": 1,
   "metadata": {},
   "outputs": [],
   "source": [
    "from tensorflow.keras.models import Sequential \n",
    "from tensorflow.keras.layers import Dense, Convolution2D, Flatten,MaxPooling2D"
   ]
  },
  {
   "cell_type": "code",
   "execution_count": 2,
   "metadata": {},
   "outputs": [],
   "source": [
    "from  tensorflow.keras.preprocessing.image import ImageDataGenerator "
   ]
  },
  {
   "cell_type": "markdown",
   "metadata": {},
   "source": [
    "### 2. Image preprocessing"
   ]
  },
  {
   "cell_type": "markdown",
   "metadata": {},
   "source": [
    "creating 2 variables for augmentation techniques"
   ]
  },
  {
   "cell_type": "code",
   "execution_count": 3,
   "metadata": {},
   "outputs": [],
   "source": [
    "train_datagen = ImageDataGenerator(rescale = 1./255, shear_range = 0.2, zoom_range = 0.2, horizontal_flip = True)\n",
    "test_datagen = ImageDataGenerator(rescale = 1./255, shear_range = 0.2, zoom_range = 0.2, horizontal_flip = True)"
   ]
  },
  {
   "cell_type": "markdown",
   "metadata": {},
   "source": [
    "load dataset and apply augmentation techniques to loaded dataset"
   ]
  },
  {
   "cell_type": "code",
   "execution_count": 4,
   "metadata": {},
   "outputs": [
    {
     "name": "stdout",
     "output_type": "stream",
     "text": [
      "Found 456 images belonging to 4 classes.\n",
      "Found 249 images belonging to 4 classes.\n"
     ]
    }
   ],
   "source": [
    "x_train = train_datagen.flow_from_directory(r\"F:\\Andrina\\Externship\\Code Files\\Precious-stone data\\trainset\", \n",
    "                                            target_size = (64,64),\n",
    "                                           batch_size = 32,\n",
    "                                            class_mode = \"categorical\")\n",
    "\n",
    "x_test = test_datagen.flow_from_directory(r\"F:\\Andrina\\Externship\\Code Files\\Precious-stone data\\testset\", \n",
    "                                            target_size = (64,64),\n",
    "                                           batch_size = 32,\n",
    "                                            class_mode = \"categorical\")"
   ]
  },
  {
   "cell_type": "markdown",
   "metadata": {},
   "source": [
    "### 3. Train the model"
   ]
  },
  {
   "cell_type": "code",
   "execution_count": 5,
   "metadata": {},
   "outputs": [],
   "source": [
    "cnn = Sequential()"
   ]
  },
  {
   "cell_type": "markdown",
   "metadata": {},
   "source": [
    "##### add convolution layer"
   ]
  },
  {
   "cell_type": "code",
   "execution_count": 6,
   "metadata": {},
   "outputs": [
    {
     "name": "stdout",
     "output_type": "stream",
     "text": [
      "WARNING:tensorflow:From C:\\Users\\andma\\Anaconda3\\lib\\site-packages\\tensorflow\\python\\ops\\init_ops.py:1251: calling VarianceScaling.__init__ (from tensorflow.python.ops.init_ops) with dtype is deprecated and will be removed in a future version.\n",
      "Instructions for updating:\n",
      "Call initializer instance with the dtype argument instead of passing it to the constructor\n"
     ]
    }
   ],
   "source": [
    "cnn.add(Convolution2D(32,(3,3),input_shape = (64,64,3)))"
   ]
  },
  {
   "cell_type": "markdown",
   "metadata": {},
   "source": [
    "##### add maxpooling layer"
   ]
  },
  {
   "cell_type": "code",
   "execution_count": 7,
   "metadata": {},
   "outputs": [],
   "source": [
    "cnn.add(MaxPooling2D((2,2)))"
   ]
  },
  {
   "cell_type": "markdown",
   "metadata": {},
   "source": [
    "##### add flatten layer"
   ]
  },
  {
   "cell_type": "code",
   "execution_count": 8,
   "metadata": {},
   "outputs": [],
   "source": [
    "cnn.add(Flatten())"
   ]
  },
  {
   "cell_type": "markdown",
   "metadata": {},
   "source": [
    "##### add hidden layer"
   ]
  },
  {
   "cell_type": "code",
   "execution_count": 9,
   "metadata": {},
   "outputs": [
    {
     "name": "stdout",
     "output_type": "stream",
     "text": [
      "WARNING:tensorflow:From C:\\Users\\andma\\Anaconda3\\lib\\site-packages\\tensorflow\\python\\keras\\initializers.py:119: calling RandomUniform.__init__ (from tensorflow.python.ops.init_ops) with dtype is deprecated and will be removed in a future version.\n",
      "Instructions for updating:\n",
      "Call initializer instance with the dtype argument instead of passing it to the constructor\n"
     ]
    }
   ],
   "source": [
    "cnn.add(Dense(units = 128 , kernel_initializer=\"random_uniform\", activation = \"relu\"))"
   ]
  },
  {
   "cell_type": "markdown",
   "metadata": {},
   "source": [
    "##### add output layer"
   ]
  },
  {
   "cell_type": "code",
   "execution_count": 10,
   "metadata": {},
   "outputs": [],
   "source": [
    "cnn.add(Dense(units = 4 , kernel_initializer=\"random_uniform\", activation = \"softmax\"))"
   ]
  },
  {
   "cell_type": "markdown",
   "metadata": {},
   "source": [
    "##### configure learning"
   ]
  },
  {
   "cell_type": "code",
   "execution_count": 11,
   "metadata": {},
   "outputs": [],
   "source": [
    "cnn.compile(optimizer = \"rmsprop\", loss = \"categorical_crossentropy\", metrics = [\"accuracy\"])"
   ]
  },
  {
   "cell_type": "markdown",
   "metadata": {},
   "source": [
    "##### train model"
   ]
  },
  {
   "cell_type": "code",
   "execution_count": 12,
   "metadata": {},
   "outputs": [
    {
     "name": "stdout",
     "output_type": "stream",
     "text": [
      "Epoch 1/15\n",
      "15/14 [===============================] - 9s 582ms/step - loss: 2.1554 - acc: 0.5263 - val_loss: 0.6684 - val_acc: 0.7108\n",
      "Epoch 2/15\n",
      "15/14 [===============================] - 5s 306ms/step - loss: 0.4060 - acc: 0.8706 - val_loss: 0.1645 - val_acc: 0.9719\n",
      "Epoch 3/15\n",
      "15/14 [===============================] - 5s 304ms/step - loss: 0.2316 - acc: 0.9320 - val_loss: 0.0893 - val_acc: 0.9920\n",
      "Epoch 4/15\n",
      "15/14 [===============================] - 5s 329ms/step - loss: 0.0903 - acc: 0.9781 - val_loss: 0.0597 - val_acc: 0.9920\n",
      "Epoch 5/15\n",
      "15/14 [===============================] - 5s 301ms/step - loss: 0.1049 - acc: 0.9627 - val_loss: 0.0441 - val_acc: 0.9960\n",
      "Epoch 6/15\n",
      "15/14 [===============================] - 4s 279ms/step - loss: 0.0566 - acc: 0.9825 - val_loss: 0.1620 - val_acc: 0.9558\n",
      "Epoch 7/15\n",
      "15/14 [===============================] - 5s 344ms/step - loss: 0.0415 - acc: 0.9912 - val_loss: 0.0360 - val_acc: 0.9960\n",
      "Epoch 8/15\n",
      "15/14 [===============================] - 4s 294ms/step - loss: 0.0722 - acc: 0.9803 - val_loss: 0.4666 - val_acc: 0.8594\n",
      "Epoch 9/15\n",
      "15/14 [===============================] - 5s 341ms/step - loss: 0.0818 - acc: 0.9737 - val_loss: 0.0317 - val_acc: 0.9960\n",
      "Epoch 10/15\n",
      "15/14 [===============================] - 5s 320ms/step - loss: 0.0108 - acc: 0.9978 - val_loss: 0.0206 - val_acc: 0.9960\n",
      "Epoch 11/15\n",
      "15/14 [===============================] - 5s 324ms/step - loss: 0.0425 - acc: 0.9846 - val_loss: 0.0282 - val_acc: 0.9880\n",
      "Epoch 12/15\n",
      "15/14 [===============================] - 4s 297ms/step - loss: 0.0055 - acc: 1.0000 - val_loss: 0.0228 - val_acc: 0.9920\n",
      "Epoch 13/15\n",
      "15/14 [===============================] - 5s 348ms/step - loss: 0.0253 - acc: 0.9912 - val_loss: 0.0257 - val_acc: 0.9920\n",
      "Epoch 14/15\n",
      "15/14 [===============================] - 4s 292ms/step - loss: 0.0607 - acc: 0.9693 - val_loss: 0.0228 - val_acc: 0.9920\n",
      "Epoch 15/15\n",
      "15/14 [===============================] - 5s 318ms/step - loss: 0.0127 - acc: 0.9956 - val_loss: 0.0216 - val_acc: 0.9880\n"
     ]
    },
    {
     "data": {
      "text/plain": [
       "<tensorflow.python.keras.callbacks.History at 0x1c8db9ea828>"
      ]
     },
     "execution_count": 12,
     "metadata": {},
     "output_type": "execute_result"
    }
   ],
   "source": [
    "cnn.fit_generator(x_train, steps_per_epoch = 456/32, epochs=15, validation_data = x_test, validation_steps = 249/32)"
   ]
  },
  {
   "cell_type": "markdown",
   "metadata": {},
   "source": [
    "##### save model"
   ]
  },
  {
   "cell_type": "code",
   "execution_count": 13,
   "metadata": {},
   "outputs": [],
   "source": [
    "cnn.save(\"prestone.h5\")"
   ]
  },
  {
   "cell_type": "markdown",
   "metadata": {},
   "source": [
    "### 4. Test the model "
   ]
  },
  {
   "cell_type": "code",
   "execution_count": 14,
   "metadata": {},
   "outputs": [],
   "source": [
    "from tensorflow.keras.models import load_model\n",
    "from tensorflow.keras.preprocessing import image"
   ]
  },
  {
   "cell_type": "markdown",
   "metadata": {},
   "source": [
    "##### load saved model"
   ]
  },
  {
   "cell_type": "code",
   "execution_count": 15,
   "metadata": {},
   "outputs": [
    {
     "name": "stdout",
     "output_type": "stream",
     "text": [
      "WARNING:tensorflow:From C:\\Users\\andma\\Anaconda3\\lib\\site-packages\\tensorflow\\python\\ops\\init_ops.py:97: calling GlorotUniform.__init__ (from tensorflow.python.ops.init_ops) with dtype is deprecated and will be removed in a future version.\n",
      "Instructions for updating:\n",
      "Call initializer instance with the dtype argument instead of passing it to the constructor\n",
      "WARNING:tensorflow:From C:\\Users\\andma\\Anaconda3\\lib\\site-packages\\tensorflow\\python\\ops\\init_ops.py:97: calling Zeros.__init__ (from tensorflow.python.ops.init_ops) with dtype is deprecated and will be removed in a future version.\n",
      "Instructions for updating:\n",
      "Call initializer instance with the dtype argument instead of passing it to the constructor\n"
     ]
    }
   ],
   "source": [
    "model = load_model(\"prestone.h5\")"
   ]
  },
  {
   "cell_type": "markdown",
   "metadata": {},
   "source": [
    "#### Prediction Index\n",
    "##### 1000 amethyst\n",
    "##### 0100 jade\n",
    "##### 0010 rosequartz\n",
    "##### 0001 sapphire"
   ]
  },
  {
   "cell_type": "markdown",
   "metadata": {},
   "source": [
    "## Test for Rose quartz "
   ]
  },
  {
   "cell_type": "code",
   "execution_count": 28,
   "metadata": {},
   "outputs": [
    {
     "name": "stdout",
     "output_type": "stream",
     "text": [
      "[[0. 0. 1. 0.]]\n"
     ]
    },
    {
     "data": {
      "text/plain": [
       "'rose quartz'"
      ]
     },
     "execution_count": 28,
     "metadata": {},
     "output_type": "execute_result"
    }
   ],
   "source": [
    "img = image.load_img(\"rosequartz.jpg\",target_size = (64,64))\n",
    "x = image.img_to_array(img)\n",
    "x = np.expand_dims(x,axis =0)\n",
    "pred = model.predict(x)\n",
    "print(pred)\n",
    "prediction = index[np.argmax(pred[0])]\n",
    "prediction"
   ]
  },
  {
   "cell_type": "markdown",
   "metadata": {},
   "source": [
    "## Test for Sapphire"
   ]
  },
  {
   "cell_type": "code",
   "execution_count": 24,
   "metadata": {},
   "outputs": [
    {
     "name": "stdout",
     "output_type": "stream",
     "text": [
      "[[0. 0. 0. 1.]]\n"
     ]
    },
    {
     "data": {
      "text/plain": [
       "'sapphire'"
      ]
     },
     "execution_count": 24,
     "metadata": {},
     "output_type": "execute_result"
    }
   ],
   "source": [
    "img = image.load_img(\"sapphire.jpg\",target_size = (64,64))\n",
    "x = image.img_to_array(img)\n",
    "x = np.expand_dims(x,axis =0)\n",
    "pred = model.predict(x)\n",
    "print(pred)\n",
    "prediction = index[np.argmax(pred[0])]\n",
    "prediction"
   ]
  },
  {
   "cell_type": "markdown",
   "metadata": {},
   "source": [
    "## Test for Jade "
   ]
  },
  {
   "cell_type": "code",
   "execution_count": 25,
   "metadata": {},
   "outputs": [
    {
     "name": "stdout",
     "output_type": "stream",
     "text": [
      "[[0. 1. 0. 0.]]\n"
     ]
    },
    {
     "data": {
      "text/plain": [
       "'jade'"
      ]
     },
     "execution_count": 25,
     "metadata": {},
     "output_type": "execute_result"
    }
   ],
   "source": [
    "img = image.load_img(\"jade.jpg\",target_size = (64,64))\n",
    "x = image.img_to_array(img)\n",
    "x = np.expand_dims(x,axis =0)\n",
    "pred = model.predict(x)\n",
    "print(pred)\n",
    "prediction = index[np.argmax(pred[0])]\n",
    "prediction"
   ]
  },
  {
   "cell_type": "markdown",
   "metadata": {},
   "source": [
    "## Test for Amethyst"
   ]
  },
  {
   "cell_type": "code",
   "execution_count": 27,
   "metadata": {},
   "outputs": [
    {
     "name": "stdout",
     "output_type": "stream",
     "text": [
      "[[1. 0. 0. 0.]]\n"
     ]
    },
    {
     "data": {
      "text/plain": [
       "'amethyst'"
      ]
     },
     "execution_count": 27,
     "metadata": {},
     "output_type": "execute_result"
    }
   ],
   "source": [
    "img = image.load_img(\"amethyst.jpg\",target_size = (64,64))\n",
    "x = image.img_to_array(img)\n",
    "x = np.expand_dims(x,axis =0)\n",
    "pred = model.predict(x)\n",
    "print(pred)\n",
    "prediction = index[np.argmax(pred[0])]\n",
    "prediction"
   ]
  }
 ],
 "metadata": {
  "kernelspec": {
   "display_name": "Python 3",
   "language": "python",
   "name": "python3"
  },
  "language_info": {
   "codemirror_mode": {
    "name": "ipython",
    "version": 3
   },
   "file_extension": ".py",
   "mimetype": "text/x-python",
   "name": "python",
   "nbconvert_exporter": "python",
   "pygments_lexer": "ipython3",
   "version": "3.7.3"
  }
 },
 "nbformat": 4,
 "nbformat_minor": 2
}
